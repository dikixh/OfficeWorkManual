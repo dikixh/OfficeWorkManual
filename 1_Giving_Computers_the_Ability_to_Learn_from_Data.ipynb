{
  "nbformat": 4,
  "nbformat_minor": 0,
  "metadata": {
    "colab": {
      "provenance": [],
      "collapsed_sections": [],
      "authorship_tag": "ABX9TyO2ojuvxlX/NmF2Z0lTY09Q",
      "include_colab_link": true
    },
    "kernelspec": {
      "name": "python3",
      "display_name": "Python 3"
    },
    "language_info": {
      "name": "python"
    }
  },
  "cells": [
    {
      "cell_type": "markdown",
      "metadata": {
        "id": "view-in-github",
        "colab_type": "text"
      },
      "source": [
        "<a href=\"https://colab.research.google.com/github/dikixh/OfficeWorkManual/blob/main/1_Giving_Computers_the_Ability_to_Learn_from_Data.ipynb\" target=\"_parent\"><img src=\"https://colab.research.google.com/assets/colab-badge.svg\" alt=\"Open In Colab\"/></a>"
      ]
    },
    {
      "cell_type": "markdown",
      "source": [
        "##第1章：「データから学習する能力」をコンピュータに与える"
      ],
      "metadata": {
        "id": "9bqsGmHKHtWB"
      }
    },
    {
      "cell_type": "code",
      "source": [],
      "metadata": {
        "id": "GnVrtTroITYh"
      },
      "execution_count": null,
      "outputs": []
    }
  ]
}